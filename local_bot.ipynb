{
 "cells": [
  {
   "cell_type": "code",
   "execution_count": null,
   "id": "eb044618",
   "metadata": {},
   "outputs": [],
   "source": [
    "!pip install transformers torch"
   ]
  },
  {
   "cell_type": "code",
   "execution_count": null,
   "id": "ccb995b9",
   "metadata": {},
   "outputs": [],
   "source": [
    "from transformers import pipeline\n",
    "import torch"
   ]
  },
  {
   "cell_type": "code",
   "execution_count": null,
   "id": "f15736f0",
   "metadata": {},
   "outputs": [],
   "source": [
    "\n",
    "from collections import deque\n",
    "\n",
    "class ChatMemory:\n",
    "    def __init__(self, max_turns=5):\n",
    "        self.history = deque(maxlen=max_turns)\n",
    "\n",
    "    def add_turn(self, user_input, bot_response):\n",
    "        self.history.append(f\"User: {user_input}\")\n",
    "        self.history.append(f\"Bot: {bot_response}\")\n",
    "\n",
    "    def get_context(self):\n",
    "        return \"\\n\".join(self.history)\n"
   ]
  },
  {
   "cell_type": "code",
   "execution_count": null,
   "id": "f2ee0f14",
   "metadata": {},
   "outputs": [],
   "source": [
    "# model_loader.py logic\n",
    "def load_model():\n",
    "    print(\"Device set to use cpu\")\n",
    "    model_id = \"microsoft/phi-1_5\"\n",
    "    return pipeline(\"text-generation\", model=model_id, framework=\"pt\")\n"
   ]
  },
  {
   "cell_type": "code",
   "execution_count": null,
   "id": "eb2edf69",
   "metadata": {},
   "outputs": [],
   "source": [
    "# Simulating interface.py logic inside notebook\n",
    "chatbot = load_model()\n",
    "memory = ChatMemory(max_turns=5)\n",
    "\n",
    "def chat_with_bot(user_input):\n",
    "    context = memory.get_context() + f\"\\nUser: {user_input}\"\n",
    "    response = chatbot(context, max_new_tokens=50, do_sample=True)[0][\"generated_text\"]\n",
    "    bot_reply = response[len(context):].strip().split(\"\\n\")[0]\n",
    "    memory.add_turn(user_input, bot_reply)\n",
    "    return bot_reply\n"
   ]
  },
  {
   "cell_type": "code",
   "execution_count": null,
   "id": "9ec52201",
   "metadata": {},
   "outputs": [],
   "source": [
    "# Example chat\n",
    "print(\"Chatbot started. Type '/exit' to quit.\\n\")\n",
    "while True:\n",
    "    user = input(\"User: \")\n",
    "    if user.lower() == \"/exit\":\n",
    "        print(\"Goodbye!\")\n",
    "        break\n",
    "    bot = chat_with_bot(user)\n",
    "    print(f\"Bot: {bot}\")\n"
   ]
  }
 ],
 "metadata": {
  "kernelspec": {
   "display_name": "Python 3",
   "language": "python",
   "name": "python3"
  },
  "language_info": {
   "name": "python",
   "version": "3.12.3"
  }
 },
 "nbformat": 4,
 "nbformat_minor": 5
}
